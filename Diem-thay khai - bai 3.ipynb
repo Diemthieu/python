{
 "cells": [
  {
   "cell_type": "code",
   "execution_count": null,
   "id": "400907c4",
   "metadata": {},
   "outputs": [],
   "source": [
    "import array\n",
    "import numpy as thieu\n",
    "array_1 = array.array('i',[3,6,9,12])\n",
    "print(type(np))\n",
    "print(type(array_1))"
   ]
  },
  {
   "cell_type": "code",
   "execution_count": null,
   "id": "7495064c",
   "metadata": {},
   "outputs": [],
   "source": [
    "array_2 = thieu.array (['number',3,6,8,12])\n",
    "print(diem)\n",
    "print(array_2)\n",
    "print(type(array_2))"
   ]
  },
  {
   "cell_type": "code",
   "execution_count": null,
   "id": "d35c732d",
   "metadata": {},
   "outputs": [],
   "source": [
    "mylist1 = [1,2,3,4,5,6]\n",
    "mylist2 = ['a', 'b','c']\n",
    "mylist3 = mylist1 + mylist2\n",
    "mylist1.remove(3)\n",
    "print(mylist1)\n"
   ]
  },
  {
   "cell_type": "code",
   "execution_count": null,
   "id": "62ea585e",
   "metadata": {},
   "outputs": [],
   "source": [
    "ds_hoc_vien = []\n",
    "print(ds_hoc_vien)\n",
    "chieu_dai_chuoi = len(ds_hoc_vien)\n",
    "print(chieu_dai_chuoi)"
   ]
  },
  {
   "cell_type": "code",
   "execution_count": null,
   "id": "3a85c3af",
   "metadata": {},
   "outputs": [],
   "source": [
    "ds_hoc_vien.extend([1,2,1,3,2])\n",
    "print(ds_hoc_vien)"
   ]
  },
  {
   "cell_type": "code",
   "execution_count": null,
   "id": "78129d72",
   "metadata": {},
   "outputs": [],
   "source": [
    "print(ds_hoc_vien)\n",
    "ds_hoc_vien.count(2)"
   ]
  },
  {
   "cell_type": "code",
   "execution_count": null,
   "id": "39c681c0",
   "metadata": {},
   "outputs": [],
   "source": [
    "len(ds_hoc_vien)"
   ]
  },
  {
   "cell_type": "code",
   "execution_count": null,
   "id": "ee0c2b4a",
   "metadata": {},
   "outputs": [],
   "source": [
    "ds_hoc_vien2 = ['Nam','Lan','Mai','Viet']\n",
    "print((ds_hoc_vien2))"
   ]
  },
  {
   "cell_type": "code",
   "execution_count": null,
   "id": "ad0cbd6b",
   "metadata": {},
   "outputs": [],
   "source": [
    "print(', '.join(ds_hoc_vien2))"
   ]
  },
  {
   "cell_type": "code",
   "execution_count": null,
   "id": "78bbd8ae",
   "metadata": {},
   "outputs": [],
   "source": [
    "print(ds_hoc_vien2[0], end=' ')\n",
    "print(ds_hoc_vien2[1], end=' ')\n",
    "print(ds_hoc_vien2[-1], end=' ')\n",
    "print(ds_hoc_vien2[-2])"
   ]
  },
  {
   "cell_type": "code",
   "execution_count": null,
   "id": "47066606",
   "metadata": {},
   "outputs": [],
   "source": [
    "ds_hoc_vien3 = ['Nam', 'Lan','Long', 'Mai', 'Việt', 'Peter', 'Alex']\n",
    "print(ds_hoc_vien3[:2], end = \" \")\n",
    "print(ds_hoc_vien3[2:4], end = \" \")\n",
    "print(ds_hoc_vien3[1:6:2], end = \" \")\n",
    "print(ds_hoc_vien3[4:])"
   ]
  },
  {
   "cell_type": "code",
   "execution_count": null,
   "id": "8bfe5538",
   "metadata": {},
   "outputs": [],
   "source": [
    "#slice ngược\n",
    "ds_nhom2 = ds_hoc_vien3[-2:-4:-1]\n",
    "ds_nhom3 = ds_hoc_vien3[-4:-2:-1]\n",
    "print(ds_nhom2)\n",
    "print(ds_nhom3)"
   ]
  },
  {
   "cell_type": "code",
   "execution_count": null,
   "id": "3af6b269",
   "metadata": {},
   "outputs": [],
   "source": [
    "#đảo ngược list bởi method\n",
    "ds_hoc_vien4 = ['Nam', 'Lan','Long', 'Mai', 'Việt']\n",
    "ds_hoc_vien4.reverse()\n",
    "print(ds_hoc_vien4)"
   ]
  },
  {
   "cell_type": "code",
   "execution_count": null,
   "id": "f615fe26",
   "metadata": {},
   "outputs": [],
   "source": [
    "#đảo ngược list bởi slicing\n",
    "ds_hoc_vien4.reverse()\n",
    "print(ds_hoc_vien4)\n",
    "ds_dao_nguoc = ds_hoc_vien4[::-1]\n",
    "print(ds_dao_nguoc)"
   ]
  },
  {
   "cell_type": "code",
   "execution_count": null,
   "id": "6a7156f8",
   "metadata": {
    "scrolled": true
   },
   "outputs": [],
   "source": [
    "#đảo ngược list bởi hàm reverse\n",
    "ds_hoc_vien4 =['Việt', 'Mai', 'Long', 'Lan', 'Nam']\n",
    "print(ds_hoc_vien4)\n",
    "dsdao_hoc_vien4 = list(reversed(ds_hoc_vien4))\n",
    "print(dsdao_hoc_vien4)"
   ]
  },
  {
   "cell_type": "code",
   "execution_count": null,
   "id": "0fcb8034",
   "metadata": {},
   "outputs": [],
   "source": [
    "ds_hoc_vien4 = ['Việt', 'Mai', 'Long', 'Lan', 'Nam']\n",
    "ds_hoc_vien4.reverse()\n",
    "print(ds_hoc_vien4)"
   ]
  },
  {
   "cell_type": "code",
   "execution_count": null,
   "id": "19082a36",
   "metadata": {},
   "outputs": [],
   "source": [
    "#thêm list \n",
    "ds_hoc_vien4 = ['Việt', 'Mai', 'Long', 'Lan', 'Nam']\n",
    "them_ds_hoc_vien4 = list(ds_hoc_vien4.extend(['Minho','Kun']))\n",
    "print(them_ds_hoc_vien4)"
   ]
  },
  {
   "cell_type": "code",
   "execution_count": null,
   "id": "adc51622",
   "metadata": {},
   "outputs": [],
   "source": [
    "ds_hoc_vien4 = ['Việt', 'Mai', 'Long', 'Lan', 'Nam']\n",
    "ds_hoc_vien4.extend(['Minhi','lee'])\n",
    "ds_hoc_vien5 = ds_hoc_vien4\n",
    "ds_hoc_vien5.extend(['Quang Khai'])\n",
    "print(ds_hoc_vien5)\n"
   ]
  },
  {
   "cell_type": "code",
   "execution_count": null,
   "id": "344ee32e",
   "metadata": {},
   "outputs": [],
   "source": [
    "#xóa\n",
    "print(ds_hoc_vien4)\n",
    "ds_hoc_vien4.remove(\"Nam\")"
   ]
  },
  {
   "cell_type": "code",
   "execution_count": 36,
   "id": "ffed9c41",
   "metadata": {},
   "outputs": [
    {
     "name": "stdout",
     "output_type": "stream",
     "text": [
      "['Việt', 'Mai', 'Long', 'Lan', 'Nam', 'Mai']\n"
     ]
    }
   ],
   "source": [
    "ds_hoc_vien4 = ['Việt', 'Mai', 'Long', 'Lan', 'Nam','Mai']\n",
    "print(ds_hoc_vien4)"
   ]
  },
  {
   "cell_type": "code",
   "execution_count": 35,
   "id": "5410df06",
   "metadata": {},
   "outputs": [
    {
     "ename": "IndexError",
     "evalue": "pop index out of range",
     "output_type": "error",
     "traceback": [
      "\u001b[1;31m---------------------------------------------------------------------------\u001b[0m",
      "\u001b[1;31mIndexError\u001b[0m                                Traceback (most recent call last)",
      "Cell \u001b[1;32mIn[35], line 1\u001b[0m\n\u001b[1;32m----> 1\u001b[0m ds_hoc_vien4\u001b[38;5;241m.\u001b[39mpop(\u001b[38;5;241m1\u001b[39m)\n\u001b[0;32m      2\u001b[0m \u001b[38;5;28mprint\u001b[39m(ds_hoc_vien4)\n",
      "\u001b[1;31mIndexError\u001b[0m: pop index out of range"
     ]
    }
   ],
   "source": [
    "ds_hoc_vien4.pop(1)\n",
    "print(ds_hoc_vien4)"
   ]
  },
  {
   "cell_type": "code",
   "execution_count": 37,
   "id": "580fc835",
   "metadata": {},
   "outputs": [
    {
     "name": "stdout",
     "output_type": "stream",
     "text": [
      "['Việt', 'Mai', 'Long', 'Lan', 'Nam', 'Mai']\n"
     ]
    }
   ],
   "source": [
    "print(ds_hoc_vien4)\n",
    "ds_hoc_vien4.remove(\"Mai\")"
   ]
  },
  {
   "cell_type": "code",
   "execution_count": 7,
   "id": "631b7da5",
   "metadata": {},
   "outputs": [
    {
     "name": "stdout",
     "output_type": "stream",
     "text": [
      "['Việt', 'Long', 'Lan', 'Nam', 'Mai']\n"
     ]
    }
   ],
   "source": [
    "print(ds_hoc_vien4)"
   ]
  },
  {
   "cell_type": "code",
   "execution_count": 15,
   "id": "d85b08a2",
   "metadata": {},
   "outputs": [
    {
     "name": "stdout",
     "output_type": "stream",
     "text": [
      "['Việt', 'Mai', 'Long', 'Lan', 'Nam', 'Mai']\n"
     ]
    }
   ],
   "source": [
    "ds_hoc_vien4 = ['Việt', 'Mai', 'Long', 'Lan', 'Nam','Mai']\n",
    "print(ds_hoc_vien4)"
   ]
  },
  {
   "cell_type": "code",
   "execution_count": 24,
   "id": "1ca635b9",
   "metadata": {},
   "outputs": [],
   "source": [
    "del ds_hoc_vien4[2]\n"
   ]
  },
  {
   "cell_type": "code",
   "execution_count": 19,
   "id": "abf63407",
   "metadata": {},
   "outputs": [],
   "source": [
    "del ds_hoc_vien4[0]"
   ]
  },
  {
   "cell_type": "code",
   "execution_count": 25,
   "id": "113e3399",
   "metadata": {},
   "outputs": [
    {
     "data": {
      "text/plain": [
       "['Mai', 'Long', 'Mai']"
      ]
     },
     "execution_count": 25,
     "metadata": {},
     "output_type": "execute_result"
    }
   ],
   "source": [
    "ds_hoc_vien4"
   ]
  },
  {
   "cell_type": "code",
   "execution_count": 27,
   "id": "392e7719",
   "metadata": {},
   "outputs": [
    {
     "data": {
      "text/plain": [
       "(2, 4)"
      ]
     },
     "execution_count": 27,
     "metadata": {},
     "output_type": "execute_result"
    }
   ],
   "source": [
    "t = (1,2,4,5)\n",
    "t[1:3]"
   ]
  },
  {
   "cell_type": "code",
   "execution_count": 28,
   "id": "4c26edd1",
   "metadata": {},
   "outputs": [
    {
     "ename": "TypeError",
     "evalue": "'tuple' object doesn't support item deletion",
     "output_type": "error",
     "traceback": [
      "\u001b[1;31m---------------------------------------------------------------------------\u001b[0m",
      "\u001b[1;31mTypeError\u001b[0m                                 Traceback (most recent call last)",
      "Cell \u001b[1;32mIn[28], line 1\u001b[0m\n\u001b[1;32m----> 1\u001b[0m \u001b[38;5;28;01mdel\u001b[39;00m t[\u001b[38;5;241m1\u001b[39m]\n",
      "\u001b[1;31mTypeError\u001b[0m: 'tuple' object doesn't support item deletion"
     ]
    }
   ],
   "source": [
    "del t[1]"
   ]
  },
  {
   "cell_type": "code",
   "execution_count": 29,
   "id": "e8639286",
   "metadata": {},
   "outputs": [
    {
     "data": {
      "text/plain": [
       "[1, 2, 4, 5]"
      ]
     },
     "execution_count": 29,
     "metadata": {},
     "output_type": "execute_result"
    }
   ],
   "source": [
    "#biến tuple thành list\n",
    "l = list(t)\n",
    "l"
   ]
  },
  {
   "cell_type": "code",
   "execution_count": 31,
   "id": "41f8db6d",
   "metadata": {},
   "outputs": [
    {
     "data": {
      "text/plain": [
       "(1, 2, 4, 5)"
      ]
     },
     "execution_count": 31,
     "metadata": {},
     "output_type": "execute_result"
    }
   ],
   "source": [
    "m = tuple(t)\n",
    "m"
   ]
  },
  {
   "cell_type": "code",
   "execution_count": 58,
   "id": "e6371ac9",
   "metadata": {},
   "outputs": [
    {
     "data": {
      "text/plain": [
       "['Việt', 'Long', 'Lan', 'Nam', 'Mai']"
      ]
     },
     "execution_count": 58,
     "metadata": {},
     "output_type": "execute_result"
    }
   ],
   "source": [
    "ds_hoc_vien4"
   ]
  },
  {
   "cell_type": "code",
   "execution_count": 41,
   "id": "768fc386",
   "metadata": {},
   "outputs": [
    {
     "name": "stdout",
     "output_type": "stream",
     "text": [
      "['Lan', 'Long', 'Mai', 'Nam', 'Việt']\n"
     ]
    }
   ],
   "source": [
    "diem = list(sorted(ds_hoc_vien4))\n",
    "print(diem)"
   ]
  },
  {
   "cell_type": "code",
   "execution_count": 44,
   "id": "6a2c1cc0",
   "metadata": {},
   "outputs": [
    {
     "data": {
      "text/plain": [
       "<generator object <genexpr> at 0x00000258AF1FC9E0>"
      ]
     },
     "execution_count": 44,
     "metadata": {},
     "output_type": "execute_result"
    }
   ],
   "source": [
    "ds_hoc_vien4\n",
    "diem = (len(ten) for ten in ds_hoc_vien4)\n",
    "diem"
   ]
  },
  {
   "cell_type": "code",
   "execution_count": 63,
   "id": "612e2f91",
   "metadata": {},
   "outputs": [
    {
     "name": "stdout",
     "output_type": "stream",
     "text": [
      "b\n",
      "A\n"
     ]
    }
   ],
   "source": [
    "ds_hoc_vien4 = ['a','B','b','A']\n",
    "diem =max(ds_hoc_vien4)\n",
    "thieu= min (ds_hoc_vien4)\n",
    "print(diem)\n",
    "print(thieu)"
   ]
  },
  {
   "cell_type": "code",
   "execution_count": 68,
   "id": "12d8baee",
   "metadata": {},
   "outputs": [
    {
     "name": "stdout",
     "output_type": "stream",
     "text": [
      "2\n"
     ]
    }
   ],
   "source": [
    "ds_hoc_vien4 = ['Nam','Kun','Dep','Trai']\n",
    "print(ds_hoc_vien4.index(\"Dep\"))\n",
    "lisy()\n",
    "\n"
   ]
  }
 ],
 "metadata": {
  "kernelspec": {
   "display_name": "Python 3 (ipykernel)",
   "language": "python",
   "name": "python3"
  },
  "language_info": {
   "codemirror_mode": {
    "name": "ipython",
    "version": 3
   },
   "file_extension": ".py",
   "mimetype": "text/x-python",
   "name": "python",
   "nbconvert_exporter": "python",
   "pygments_lexer": "ipython3",
   "version": "3.11.5"
  }
 },
 "nbformat": 4,
 "nbformat_minor": 5
}
