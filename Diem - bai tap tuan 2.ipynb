{
 "cells": [
  {
   "cell_type": "markdown",
   "id": "03e60403",
   "metadata": {},
   "source": [
    "#Dữ liệu giá cổ phiếu: Viết vòng lặp xác định nếu giá cp lên 7% so với ngày\n",
    "hôm trước thì bán, xuống 5% so với ngày hôm trước thì mua\n",
    "gia_theo_ngay = [10.1, 9.5, 10.7, 10.8, 10.6, 10.0, 10.2, 9.5]"
   ]
  },
  {
   "cell_type": "code",
   "execution_count": 42,
   "id": "25c09cf0",
   "metadata": {
    "scrolled": true
   },
   "outputs": [
    {
     "name": "stdout",
     "output_type": "stream",
     "text": [
      "Mua cổ phiếu hôm nay giá: 9.5 vì xuống -6.0 % hơn ngày trước:   10.1\n",
      "Bán cổ phiếu hôm nay giá: 10.7 vì tăng 13.0 % hơn ngày trước:  9.5\n",
      "giữ lại hôm nay giá 10.8\n",
      "giữ lại hôm nay giá 10.6\n",
      "Mua cổ phiếu hôm nay giá: 10.0 vì xuống -6.0 % hơn ngày trước:   10.6\n",
      "giữ lại hôm nay giá 10.2\n",
      "Mua cổ phiếu hôm nay giá: 9.5 vì xuống -7.000000000000001 % hơn ngày trước:   10.2\n"
     ]
    }
   ],
   "source": [
    "def quyetdinhmuaban(gia_theo_ngay):\n",
    "    for i in range(1,len(gia_theo_ngay)):   \n",
    "        suthaydoi =  (gia_theo_ngay[i] - gia_theo_ngay[i-1])/gia_theo_ngay[i-1]\n",
    "        if suthaydoi > 0.07:\n",
    "            print(f'Bán cổ phiếu hôm nay giá: {gia_theo_ngay[i]} vì tăng {round(suthaydoi,2)*100} % hơn ngày trước:  {gia_theo_ngay[i-1]}')\n",
    "        elif suthaydoi <- 0.05:\n",
    "            print(f'Mua cổ phiếu hôm nay giá: {gia_theo_ngay[i]} vì xuống {round(suthaydoi,2)*100} % hơn ngày trước:   {gia_theo_ngay[i-1]}')\n",
    "        else:\n",
    "            print(f'giữ lại hôm nay giá {gia_theo_ngay[i]}')\n",
    "gia_theo_ngay = [10.1, 9.5, 10.7, 10.8, 10.6, 10.0, 10.2, 9.5]\n",
    "quyetdinhmuaban(gia_theo_ngay)"
   ]
  },
  {
   "cell_type": "markdown",
   "id": "c29e1a6a",
   "metadata": {},
   "source": [
    "# Viết chương trình kiểm tra xem mỗi số trong một list có là số nguyên tố\n",
    "#(cần viết hàm kiểm tra số NT riêng, và lưu ý trường hợp các số 1, 2, 3)"
   ]
  },
  {
   "cell_type": "code",
   "execution_count": 55,
   "id": "47494c54",
   "metadata": {},
   "outputs": [
    {
     "name": "stdout",
     "output_type": "stream",
     "text": [
      "0 không phải số nguyên tố\n",
      "1 không phải số nguyên tố\n",
      "2 là số nguyên tố\n",
      "3 là số nguyên tố\n",
      "4 không là số nguyên tố\n",
      "5 là số nguyên tố\n",
      "6 không là số nguyên tố\n",
      "7 là số nguyên tố\n",
      "8 không là số nguyên tố\n",
      "12 không là số nguyên tố\n",
      "132 không là số nguyên tố\n",
      "323242 không là số nguyên tố\n",
      "12123 không là số nguyên tố\n"
     ]
    }
   ],
   "source": [
    "def kiemtrasonguyento(mynumber):\n",
    "    for num in (mynumber):\n",
    "        if num < 2:\n",
    "            print(f'{num} không phải số nguyên tố')\n",
    "        elif num == 2 or  num == 3:\n",
    "            print(f'{num} là số nguyên tố')    \n",
    "        else:  \n",
    "            for i in range(2,int(num**0.5) + 1):\n",
    "                 if num % i == 0:\n",
    "                    print(f'{num} không là số nguyên tố')\n",
    "                    break\n",
    "            else:\n",
    "                print(f'{num} là số nguyên tố')    \n",
    "\n",
    "mynumber= [0,1,2,3,4,5,6,7,8,12,132,323242,12123]\n",
    "kiemtrasonguyento(mynumber)"
   ]
  },
  {
   "cell_type": "markdown",
   "id": "a3fbb20f",
   "metadata": {},
   "source": [
    "# Viết hàm tính tiền bảo hiểm và thuế thu nhập cá nhân cho các nhân viên:\n",
    "● Input: lương, phụ cấp\n",
    "● Output: BHXH, PIT"
   ]
  },
  {
   "cell_type": "code",
   "execution_count": 71,
   "id": "4eb97d41",
   "metadata": {},
   "outputs": [
    {
     "name": "stdout",
     "output_type": "stream",
     "text": [
      "Xin mời nhập lương:10000000\n",
      "Xin mời nhập phụ cấp:200000\n",
      "BHXH của bạn là 2090999.9999999998\n",
      "PIT của bạn là 0\n"
     ]
    }
   ],
   "source": [
    "luong = int(input('Xin mời nhập lương:'))\n",
    "phucap = int(input('Xin mời nhập phụ cấp:'))\n",
    "\n",
    "def tinhluong(phucap,luong):\n",
    "    BHXH = (luong + phucap) * 0.205\n",
    "    thunhapchiuthue = luong + phucap - BHXH\n",
    "    mucthue = [0, 5e6, 10e6, 18e6, 32e6, 52e6, 80e6]\n",
    "    hesothue = [0, 5, 10, 15, 20, 25, 30]\n",
    "    thunhapchiuthue -=  9e6 \n",
    "    PIT = 0\n",
    "    for i in range(1, len(mucthue)):\n",
    "        if thunhapchiuthue <= mucthue[i]:\n",
    "            PIT += (thunhapchiuthue - mucthue[i - 1]) * (hesothue[i] / 100)\n",
    "            break\n",
    "        else:\n",
    "            PIT += (mucthue[i] - mucthue[i - 1]) * (hesothue[i] / 100)\n",
    "    PIT = max(0, round(PIT))\n",
    "    return BHXH, PIT\n",
    "\n",
    "BHXH, PIT = tinhluong(phucap, luong)\n",
    "print(f'BHXH của bạn là {BHXH}')\n",
    "print(f'PIT của bạn là {PIT}')\n"
   ]
  },
  {
   "cell_type": "code",
   "execution_count": null,
   "id": "e7ee9c59",
   "metadata": {},
   "outputs": [],
   "source": []
  }
 ],
 "metadata": {
  "kernelspec": {
   "display_name": "Python 3 (ipykernel)",
   "language": "python",
   "name": "python3"
  },
  "language_info": {
   "codemirror_mode": {
    "name": "ipython",
    "version": 3
   },
   "file_extension": ".py",
   "mimetype": "text/x-python",
   "name": "python",
   "nbconvert_exporter": "python",
   "pygments_lexer": "ipython3",
   "version": "3.11.5"
  }
 },
 "nbformat": 4,
 "nbformat_minor": 5
}
